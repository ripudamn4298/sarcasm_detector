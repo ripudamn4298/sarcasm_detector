{
 "cells": [
  {
   "cell_type": "code",
   "execution_count": 17,
   "metadata": {},
   "outputs": [
    {
     "name": "stdout",
     "output_type": "stream",
     "text": [
      "tensor([[[ 2.5148,  2.5381,  1.1141,  ...,  1.7029,  0.1962, -0.4262],\n",
      "         [-0.8161, -0.6156, -0.9484,  ...,  0.7131, -3.9268,  0.1649],\n",
      "         [ 1.3989,  1.9549, -0.9208,  ...,  0.0336, -1.6281,  1.0757],\n",
      "         ...,\n",
      "         [ 2.4957,  2.6026,  1.5253,  ...,  2.5257,  0.3321, -0.4470],\n",
      "         [ 2.4953,  2.6028,  1.5247,  ...,  2.5247,  0.3320, -0.4467],\n",
      "         [ 2.4955,  2.6029,  1.5245,  ...,  2.5233,  0.3316, -0.4464]]],\n",
      "       device='mps:0', grad_fn=<NativeLayerNormBackward0>)\n"
     ]
    }
   ],
   "source": [
    "from transformers import BartTokenizer, BartModel\n",
    "\n",
    "tokenizer = BartTokenizer.from_pretrained('facebook/bart-base')\n",
    "model = BartModel.from_pretrained('facebook/bart-base')\n",
    "model.to('mps')\n",
    "\n",
    "inputs = tokenizer(\"Hi, my name is victor sonck.\", return_tensors=\"pt\", padding='max_length').to('mps')\n",
    "outputs = model(**inputs)\n",
    "\n",
    "last_hidden_states = outputs.last_hidden_state\n",
    "print(last_hidden_states)"
   ]
  },
  {
   "cell_type": "code",
   "execution_count": 20,
   "metadata": {},
   "outputs": [],
   "source": [
    "inputs = tokenizer(\"Hi, my name is victor sonck and I'm using a Mac Mini M1 which I never thought I'd do!\", return_tensors=\"pt\", padding='max_length').to('mps')\n",
    "outputs = model(**inputs)"
   ]
  },
  {
   "cell_type": "code",
   "execution_count": null,
   "metadata": {},
   "outputs": [],
   "source": []
  }
 ],
 "metadata": {
  "kernelspec": {
   "display_name": ".venv",
   "language": "python",
   "name": "python3"
  },
  "language_info": {
   "codemirror_mode": {
    "name": "ipython",
    "version": 3
   },
   "file_extension": ".py",
   "mimetype": "text/x-python",
   "name": "python",
   "nbconvert_exporter": "python",
   "pygments_lexer": "ipython3",
   "version": "3.7.16 (default, Dec 23 2022, 12:04:37) \n[GCC 12.2.0]"
  },
  "orig_nbformat": 4,
  "vscode": {
   "interpreter": {
    "hash": "e7b14519f1c8f2e7fc30a05bd8b6f07f79db1c1b583af1e8e115d428914c7d96"
   }
  }
 },
 "nbformat": 4,
 "nbformat_minor": 2
}
