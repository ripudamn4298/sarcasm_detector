{
 "cells": [
  {
   "cell_type": "code",
   "execution_count": 1,
   "metadata": {},
   "outputs": [
    {
     "name": "stdout",
     "output_type": "stream",
     "text": [
      "ClearML Task: created new task id=1b2453814112488c95d2231e66a07383\n",
      "2023-02-16 10:29:45,152 - clearml.Repository Detection - WARNING - Could not read Jupyter Notebook: No module named 'nbconvert'\n",
      "2023-02-16 10:29:45,156 - clearml.Task - INFO - Storing jupyter notebook directly as code\n",
      "ClearML results page: https://app.clear.ml/projects/66d481d1b92b480690f199dbb1520fce/experiments/1b2453814112488c95d2231e66a07383/output/log\n",
      "ClearML Monitor: Could not detect iteration reporting, falling back to iterations as seconds-from-start\n"
     ]
    }
   ],
   "source": [
    "from clearml import OutputModel, Task\n",
    "\n",
    "task = Task.init(project_name=\"sarcasm_detector\", task_name=\"upload_model\", output_uri=True)\n",
    "task.update_output_model(\"/home/victor/Projects/sarcasm_detector/my_awesome_model/checkpoint-best\", auto_delete_file=False)\n",
    "task.close()"
   ]
  },
  {
   "cell_type": "code",
   "execution_count": null,
   "metadata": {},
   "outputs": [],
   "source": []
  }
 ],
 "metadata": {
  "kernelspec": {
   "display_name": ".venv",
   "language": "python",
   "name": "python3"
  },
  "language_info": {
   "codemirror_mode": {
    "name": "ipython",
    "version": 3
   },
   "file_extension": ".py",
   "mimetype": "text/x-python",
   "name": "python",
   "nbconvert_exporter": "python",
   "pygments_lexer": "ipython3",
   "version": "3.10.9"
  },
  "orig_nbformat": 4,
  "vscode": {
   "interpreter": {
    "hash": "e7b14519f1c8f2e7fc30a05bd8b6f07f79db1c1b583af1e8e115d428914c7d96"
   }
  }
 },
 "nbformat": 4,
 "nbformat_minor": 2
}
